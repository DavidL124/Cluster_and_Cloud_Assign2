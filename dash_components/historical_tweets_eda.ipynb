{
 "cells": [
  {
   "cell_type": "markdown",
   "metadata": {},
   "source": [
    "### Exploratory Data Analysis\n",
    "ensure `SA2_2021_AUST_SHP_GDA94` and `requirements.txt` are to the same directory as this Jupyter notebook file \n",
    "\n",
    "for linux command, run this beforehand:\n",
    "```\n",
    "sudo apt-get install gdal-bin\n",
    "sudo apt-get install libgdal-dev\n",
    "\n",
    "sudo apt install python-geopandas\n",
    "```"
   ]
  },
  {
   "cell_type": "code",
   "execution_count": 1,
   "metadata": {},
   "outputs": [
    {
     "name": "stdout",
     "output_type": "stream",
     "text": [
      "Requirement already satisfied: pandas==1.4.2 in /Users/Yuxuan/opt/anaconda3/lib/python3.9/site-packages (from -r ./requirements.txt (line 1)) (1.4.2)\n",
      "Requirement already satisfied: shapely==1.8.2 in /Users/Yuxuan/opt/anaconda3/lib/python3.9/site-packages (from -r ./requirements.txt (line 2)) (1.8.2)\n",
      "Requirement already satisfied: jupyter_dash in /Users/Yuxuan/opt/anaconda3/lib/python3.9/site-packages (from -r ./requirements.txt (line 3)) (0.4.2)\n",
      "Requirement already satisfied: couchdb==1.2 in /Users/Yuxuan/opt/anaconda3/lib/python3.9/site-packages (from -r ./requirements.txt (line 4)) (1.2)\n",
      "Requirement already satisfied: dash==2.1 in /Users/Yuxuan/opt/anaconda3/lib/python3.9/site-packages (from -r ./requirements.txt (line 6)) (2.1.0)\n",
      "Requirement already satisfied: plotly==5.7 in /Users/Yuxuan/opt/anaconda3/lib/python3.9/site-packages (from -r ./requirements.txt (line 7)) (5.7.0)\n",
      "Requirement already satisfied: pyproj==3.3.1 in /Users/Yuxuan/opt/anaconda3/lib/python3.9/site-packages (from -r ./requirements.txt (line 8)) (3.3.1)\n",
      "Requirement already satisfied: pytz>=2020.1 in /Users/Yuxuan/opt/anaconda3/lib/python3.9/site-packages (from pandas==1.4.2->-r ./requirements.txt (line 1)) (2021.3)\n",
      "Requirement already satisfied: numpy>=1.18.5 in /Users/Yuxuan/opt/anaconda3/lib/python3.9/site-packages (from pandas==1.4.2->-r ./requirements.txt (line 1)) (1.20.3)\n",
      "Requirement already satisfied: python-dateutil>=2.8.1 in /Users/Yuxuan/opt/anaconda3/lib/python3.9/site-packages (from pandas==1.4.2->-r ./requirements.txt (line 1)) (2.8.2)\n",
      "Requirement already satisfied: ipykernel in /Users/Yuxuan/opt/anaconda3/lib/python3.9/site-packages (from jupyter_dash->-r ./requirements.txt (line 3)) (6.4.1)\n",
      "Requirement already satisfied: requests in /Users/Yuxuan/opt/anaconda3/lib/python3.9/site-packages (from jupyter_dash->-r ./requirements.txt (line 3)) (2.26.0)\n",
      "Requirement already satisfied: retrying in /Users/Yuxuan/opt/anaconda3/lib/python3.9/site-packages (from jupyter_dash->-r ./requirements.txt (line 3)) (1.3.3)\n",
      "Requirement already satisfied: ipython in /Users/Yuxuan/opt/anaconda3/lib/python3.9/site-packages (from jupyter_dash->-r ./requirements.txt (line 3)) (7.29.0)\n",
      "Requirement already satisfied: nest-asyncio in /Users/Yuxuan/opt/anaconda3/lib/python3.9/site-packages (from jupyter_dash->-r ./requirements.txt (line 3)) (1.5.1)\n",
      "Requirement already satisfied: flask in /Users/Yuxuan/opt/anaconda3/lib/python3.9/site-packages (from jupyter_dash->-r ./requirements.txt (line 3)) (1.1.2)\n",
      "Requirement already satisfied: ansi2html in /Users/Yuxuan/opt/anaconda3/lib/python3.9/site-packages (from jupyter_dash->-r ./requirements.txt (line 3)) (1.7.0)\n",
      "Requirement already satisfied: dash-html-components==2.0.0 in /Users/Yuxuan/opt/anaconda3/lib/python3.9/site-packages (from dash==2.1->-r ./requirements.txt (line 6)) (2.0.0)\n",
      "Requirement already satisfied: dash-core-components==2.0.0 in /Users/Yuxuan/opt/anaconda3/lib/python3.9/site-packages (from dash==2.1->-r ./requirements.txt (line 6)) (2.0.0)\n",
      "Requirement already satisfied: dash-table==5.0.0 in /Users/Yuxuan/opt/anaconda3/lib/python3.9/site-packages (from dash==2.1->-r ./requirements.txt (line 6)) (5.0.0)\n",
      "Requirement already satisfied: flask-compress in /Users/Yuxuan/opt/anaconda3/lib/python3.9/site-packages (from dash==2.1->-r ./requirements.txt (line 6)) (1.12)\n",
      "Requirement already satisfied: six in /Users/Yuxuan/opt/anaconda3/lib/python3.9/site-packages (from plotly==5.7->-r ./requirements.txt (line 7)) (1.16.0)\n",
      "Requirement already satisfied: tenacity>=6.2.0 in /Users/Yuxuan/opt/anaconda3/lib/python3.9/site-packages (from plotly==5.7->-r ./requirements.txt (line 7)) (8.0.1)\n",
      "Requirement already satisfied: certifi in /Users/Yuxuan/opt/anaconda3/lib/python3.9/site-packages (from pyproj==3.3.1->-r ./requirements.txt (line 8)) (2021.10.8)\n",
      "Requirement already satisfied: Jinja2>=2.10.1 in /Users/Yuxuan/opt/anaconda3/lib/python3.9/site-packages (from flask->jupyter_dash->-r ./requirements.txt (line 3)) (2.11.3)\n",
      "Requirement already satisfied: Werkzeug>=0.15 in /Users/Yuxuan/opt/anaconda3/lib/python3.9/site-packages (from flask->jupyter_dash->-r ./requirements.txt (line 3)) (2.0.2)\n",
      "Requirement already satisfied: itsdangerous>=0.24 in /Users/Yuxuan/opt/anaconda3/lib/python3.9/site-packages (from flask->jupyter_dash->-r ./requirements.txt (line 3)) (2.0.1)\n",
      "Requirement already satisfied: click>=5.1 in /Users/Yuxuan/opt/anaconda3/lib/python3.9/site-packages (from flask->jupyter_dash->-r ./requirements.txt (line 3)) (8.0.3)\n",
      "Requirement already satisfied: MarkupSafe>=0.23 in /Users/Yuxuan/opt/anaconda3/lib/python3.9/site-packages (from Jinja2>=2.10.1->flask->jupyter_dash->-r ./requirements.txt (line 3)) (1.1.1)\n",
      "Requirement already satisfied: brotli in /Users/Yuxuan/opt/anaconda3/lib/python3.9/site-packages (from flask-compress->dash==2.1->-r ./requirements.txt (line 6)) (1.0.9)\n",
      "Requirement already satisfied: matplotlib-inline<0.2.0,>=0.1.0 in /Users/Yuxuan/opt/anaconda3/lib/python3.9/site-packages (from ipykernel->jupyter_dash->-r ./requirements.txt (line 3)) (0.1.2)\n",
      "Requirement already satisfied: ipython-genutils in /Users/Yuxuan/opt/anaconda3/lib/python3.9/site-packages (from ipykernel->jupyter_dash->-r ./requirements.txt (line 3)) (0.2.0)\n",
      "Requirement already satisfied: traitlets<6.0,>=4.1.0 in /Users/Yuxuan/opt/anaconda3/lib/python3.9/site-packages (from ipykernel->jupyter_dash->-r ./requirements.txt (line 3)) (5.1.0)\n",
      "Requirement already satisfied: debugpy<2.0,>=1.0.0 in /Users/Yuxuan/opt/anaconda3/lib/python3.9/site-packages (from ipykernel->jupyter_dash->-r ./requirements.txt (line 3)) (1.4.1)\n",
      "Requirement already satisfied: tornado<7.0,>=4.2 in /Users/Yuxuan/opt/anaconda3/lib/python3.9/site-packages (from ipykernel->jupyter_dash->-r ./requirements.txt (line 3)) (6.1)\n",
      "Requirement already satisfied: appnope in /Users/Yuxuan/opt/anaconda3/lib/python3.9/site-packages (from ipykernel->jupyter_dash->-r ./requirements.txt (line 3)) (0.1.2)\n",
      "Requirement already satisfied: jupyter-client<8.0 in /Users/Yuxuan/opt/anaconda3/lib/python3.9/site-packages (from ipykernel->jupyter_dash->-r ./requirements.txt (line 3)) (6.1.12)\n",
      "Requirement already satisfied: pygments in /Users/Yuxuan/opt/anaconda3/lib/python3.9/site-packages (from ipython->jupyter_dash->-r ./requirements.txt (line 3)) (2.10.0)\n",
      "Requirement already satisfied: pexpect>4.3 in /Users/Yuxuan/opt/anaconda3/lib/python3.9/site-packages (from ipython->jupyter_dash->-r ./requirements.txt (line 3)) (4.8.0)\n",
      "Requirement already satisfied: prompt-toolkit!=3.0.0,!=3.0.1,<3.1.0,>=2.0.0 in /Users/Yuxuan/opt/anaconda3/lib/python3.9/site-packages (from ipython->jupyter_dash->-r ./requirements.txt (line 3)) (3.0.20)\n",
      "Requirement already satisfied: pickleshare in /Users/Yuxuan/opt/anaconda3/lib/python3.9/site-packages (from ipython->jupyter_dash->-r ./requirements.txt (line 3)) (0.7.5)\n",
      "Requirement already satisfied: setuptools>=18.5 in /Users/Yuxuan/opt/anaconda3/lib/python3.9/site-packages (from ipython->jupyter_dash->-r ./requirements.txt (line 3)) (58.0.4)\n",
      "Requirement already satisfied: decorator in /Users/Yuxuan/opt/anaconda3/lib/python3.9/site-packages (from ipython->jupyter_dash->-r ./requirements.txt (line 3)) (5.1.0)\n",
      "Requirement already satisfied: jedi>=0.16 in /Users/Yuxuan/opt/anaconda3/lib/python3.9/site-packages (from ipython->jupyter_dash->-r ./requirements.txt (line 3)) (0.18.0)\n",
      "Requirement already satisfied: backcall in /Users/Yuxuan/opt/anaconda3/lib/python3.9/site-packages (from ipython->jupyter_dash->-r ./requirements.txt (line 3)) (0.2.0)\n",
      "Requirement already satisfied: parso<0.9.0,>=0.8.0 in /Users/Yuxuan/opt/anaconda3/lib/python3.9/site-packages (from jedi>=0.16->ipython->jupyter_dash->-r ./requirements.txt (line 3)) (0.8.2)\n",
      "Requirement already satisfied: pyzmq>=13 in /Users/Yuxuan/opt/anaconda3/lib/python3.9/site-packages (from jupyter-client<8.0->ipykernel->jupyter_dash->-r ./requirements.txt (line 3)) (22.2.1)\n",
      "Requirement already satisfied: jupyter-core>=4.6.0 in /Users/Yuxuan/opt/anaconda3/lib/python3.9/site-packages (from jupyter-client<8.0->ipykernel->jupyter_dash->-r ./requirements.txt (line 3)) (4.8.1)\n",
      "Requirement already satisfied: ptyprocess>=0.5 in /Users/Yuxuan/opt/anaconda3/lib/python3.9/site-packages (from pexpect>4.3->ipython->jupyter_dash->-r ./requirements.txt (line 3)) (0.7.0)\n",
      "Requirement already satisfied: wcwidth in /Users/Yuxuan/opt/anaconda3/lib/python3.9/site-packages (from prompt-toolkit!=3.0.0,!=3.0.1,<3.1.0,>=2.0.0->ipython->jupyter_dash->-r ./requirements.txt (line 3)) (0.2.5)\n",
      "Requirement already satisfied: charset-normalizer~=2.0.0 in /Users/Yuxuan/opt/anaconda3/lib/python3.9/site-packages (from requests->jupyter_dash->-r ./requirements.txt (line 3)) (2.0.4)\n",
      "Requirement already satisfied: urllib3<1.27,>=1.21.1 in /Users/Yuxuan/opt/anaconda3/lib/python3.9/site-packages (from requests->jupyter_dash->-r ./requirements.txt (line 3)) (1.26.7)\n",
      "Requirement already satisfied: idna<4,>=2.5 in /Users/Yuxuan/opt/anaconda3/lib/python3.9/site-packages (from requests->jupyter_dash->-r ./requirements.txt (line 3)) (3.2)\n"
     ]
    }
   ],
   "source": [
    "!pip install -r ./requirements.txt"
   ]
  },
  {
   "cell_type": "code",
   "execution_count": 2,
   "metadata": {},
   "outputs": [],
   "source": [
    "import pandas as pd\n",
    "import geopandas as gpd\n",
    "import json\n",
    "import pyproj\n",
    "import plotly.express as px\n",
    "import plotly.graph_objects as go\n",
    "from jupyter_dash import JupyterDash\n",
    "\n",
    "from dash import Dash, html, dcc\n",
    "from dash.dependencies import Input, Output\n",
    "\n",
    "import couchdb\n",
    "\n",
    "from datetime import datetime\n",
    "from collections import defaultdict\n",
    "\n",
    "MAPBOX_ACCESS_TOKEN=\"pk.eyJ1Ijoia3VrYWhlYWRsYSIsImEiOiJjbDJ5Mml5MHEweHlkM2tvNWxodm1najcwIn0.h1p7x_rboO1iqycGcogJFQ\""
   ]
  },
  {
   "cell_type": "markdown",
   "metadata": {},
   "source": [
    "### Exploratory Data Analysis for `Historical Tweets`"
   ]
  },
  {
   "cell_type": "code",
   "execution_count": 3,
   "metadata": {},
   "outputs": [],
   "source": [
    "USER = 'user'\n",
    "PASSWORD = 'password'\n",
    "\n",
    "server = couchdb.Server('http://{}:{}@172.26.134.34:5984/'.format(USER, PASSWORD))"
   ]
  },
  {
   "cell_type": "code",
   "execution_count": 4,
   "metadata": {},
   "outputs": [],
   "source": [
    "db = server['new_tweets']\n",
    "# envir_df = server['envir_test1']\n",
    "historical_tweet_db = server['historical_tweets']"
   ]
  },
  {
   "cell_type": "code",
   "execution_count": 5,
   "metadata": {},
   "outputs": [],
   "source": [
    "# envir_db.view('area_week/area_week_topic')\n",
    "topic_agg = db.view('area_week/area_week_topic', include_doc=True)\n",
    "topic_df = pd.DataFrame((row.key+[row.value['sentiments']['compound']] for row in topic_agg),\n",
    "                        columns = ['time', 'area', 'topic','sentiment'])\n",
    "\n",
    "# Aggregate by average sentiment \n",
    "topic_df = topic_df.groupby(['time', 'area', 'topic']).mean().reset_index()\n",
    "\n",
    "#filter out wNaN \n",
    "topic_df['week'] = topic_df.apply(lambda x: x['time'].split('-')[0], axis=1)\n",
    "topic_df = topic_df[topic_df['week'] != 'wNaN']\n",
    "\n",
    "#Change string to datetime format and filtering out non-valid string\n",
    "topic_df['time'] = topic_df.apply(lambda row: datetime.strptime(row['time']+'-1', 'w%W-%Y-%w'), axis=1) #append -1 as Monday\n",
    "topic_df = topic_df[topic_df['area'] != 'zzzzzzzzz'] \n",
    "\n",
    "# print(\"topic_df Shape:\", topic_df.shape)\n",
    "# topic_df.head()"
   ]
  },
  {
   "cell_type": "code",
   "execution_count": 6,
   "metadata": {},
   "outputs": [],
   "source": [
    "sentiment_agg = db.view('sentiments/area_week_avg_compound', group_level=2, include_doc=True)\n",
    "sentiment_df = pd.DataFrame([row.key+row.value for row in sentiment_agg], \n",
    "                            columns=['time', 'area', 'sentiment', 'count'])\n",
    "\n",
    "# Remove NaN value\n",
    "sentiment_df['week'] = sentiment_df.apply(lambda x: x['time'].split('-')[0], axis=1)\n",
    "sentiment_df = sentiment_df[sentiment_df['week'] != 'wNaN']\n",
    "\n",
    "# Change string to datetime format\n",
    "sentiment_df['time'] = sentiment_df.apply(lambda row: datetime.strptime(row['time']+'-1', 'w%W-%Y-%w'), axis=1)\n",
    "\n",
    "# # Filter out only Melbourne and Sydney\n",
    "# sentiment_df = sentiment_df[(sentiment_df['area']== 'melbourne') | (sentiment_df['area'] == 'sydney')]\n",
    "\n",
    "#remove null_areas\n",
    "sentiment_df = sentiment_df[sentiment_df['area'] != 'zzzzzzzzz'] \n",
    "\n",
    "# print(\"topic_df Shape:\", sentiment_df.shape)\n",
    "# sentiment_df.head()"
   ]
  },
  {
   "cell_type": "code",
   "execution_count": 7,
   "metadata": {},
   "outputs": [],
   "source": [
    "# hist_sentiment_agg = historical_tweet_db.view('area_week/area_week_avg_compound', group_level=2, include_doc=True)\n",
    "# hist_sentiment_df = pd.DataFrame([row.key+row.value for row in hist_sentiment_agg], \n",
    "#                             columns=['time', 'area', 'sentiment', 'count'])\n",
    "\n",
    "# # Remove NaN value\n",
    "# hist_sentiment_df['week'] = hist_sentiment_df.apply(lambda x: x['time'].split('-')[0], axis=1)\n",
    "# hist_sentiment_df = hist_sentiment_df[hist_sentiment_df['week'] != 'wNaN']\n",
    "\n",
    "# hist_sentiment_df = hist_sentiment_df.apply(lambda row: datetime.strptime(row['time']+'-1', 'w%W-%Y-%w'), axis=1)\n",
    "\n",
    "# # Filter out null areas\n",
    "# hist_sentiment_df = hist_sentiment_df[hist_sentiment_df['area'] != 'zzzzzzzzz']\n",
    "# hist_sentiment_df.head()"
   ]
  },
  {
   "cell_type": "code",
   "execution_count": 8,
   "metadata": {},
   "outputs": [],
   "source": [
    "sa2_gdf = gpd.read_file(\"./SA2_2021_AUST_SHP_GDA94\")\n",
    "sa2_gdf['SA2_NAME21'] = sa2_gdf['SA2_NAME21'].str.lower()\n",
    "sa2_gdf.to_crs(pyproj.CRS.from_epsg(4283), inplace=True)\n",
    "# sa2_gdf.head()"
   ]
  },
  {
   "cell_type": "code",
   "execution_count": 9,
   "metadata": {},
   "outputs": [],
   "source": [
    "sa2_gdf_sent = sa2_gdf.copy()\n",
    "sentiment_geo_df = sentiment_df.merge(sa2_gdf_sent, left_on='area', right_on='SA2_NAME21', how='left')\n",
    "sentiment_gdf = gpd.GeoDataFrame(sentiment_geo_df, crs=\"EPSG:4283\", geometry=sentiment_geo_df.geometry)\n",
    "# sentiment_gdf.head()"
   ]
  },
  {
   "cell_type": "code",
   "execution_count": 10,
   "metadata": {},
   "outputs": [],
   "source": [
    "sentiment_overall_agg = sentiment_gdf.groupby(['GCC_NAME21']).sum().reset_index()\n",
    "# sentiment_overall_agg.head()"
   ]
  },
  {
   "cell_type": "code",
   "execution_count": 11,
   "metadata": {},
   "outputs": [],
   "source": [
    "sentiment_overall_avg = sentiment_gdf.groupby([sentiment_gdf.time.dt.year, sentiment_gdf.GCC_NAME21]).mean().reset_index()\n",
    "# sentiment_overall_avg.head()"
   ]
  },
  {
   "cell_type": "code",
   "execution_count": 12,
   "metadata": {},
   "outputs": [],
   "source": [
    "sentiment_overall_avg = sentiment_df.groupby([sentiment_gdf.time.dt.year, sentiment_gdf.GCC_NAME21]).mean().reset_index()\n",
    "melb_sentiment_now = sentiment_overall_avg.loc[\n",
    "                        (sentiment_overall_avg['GCC_NAME21'] == 'Greater Melbourne') & (sentiment_overall_avg['time'] == datetime.now().year),\n",
    "                        'sentiment'].item()\n",
    "syd_sentiment_now = sentiment_overall_avg.loc[\n",
    "                        (sentiment_overall_avg['GCC_NAME21'] == 'Greater Sydney') & (sentiment_overall_avg['time'] == datetime.now().year),\n",
    "                        'sentiment'].item()\n",
    "melb_sentiment_prev = sentiment_overall_avg.loc[\n",
    "                        (sentiment_overall_avg['GCC_NAME21'] == 'Greater Melbourne') & (sentiment_overall_avg['time'] == datetime.now().year-1),\n",
    "                        'sentiment'].item()\n",
    "syd_sentiment_prev = sentiment_overall_avg.loc[\n",
    "                        (sentiment_overall_avg['GCC_NAME21'] == 'Greater Sydney') & (sentiment_overall_avg['time'] == datetime.now().year-1),\n",
    "                        'sentiment'].item()\n",
    "#Overall Sentiment\n",
    "melb_sentiment_overall = sentiment_overall_avg.loc[\n",
    "                        (sentiment_overall_avg['GCC_NAME21'] == 'Greater Melbourne'),\n",
    "                        'sentiment'].mean()\n",
    "syd_sentiment_overall = sentiment_overall_avg.loc[\n",
    "                        (sentiment_overall_avg['GCC_NAME21'] == 'Greater Sydney'),\n",
    "                        'sentiment'].mean()"
   ]
  },
  {
   "cell_type": "code",
   "execution_count": 13,
   "metadata": {},
   "outputs": [],
   "source": [
    "# topic_df.topic.unique()"
   ]
  },
  {
   "cell_type": "code",
   "execution_count": 14,
   "metadata": {},
   "outputs": [
    {
     "data": {
      "application/vnd.plotly.v1+json": {
       "config": {
        "plotlyServerURL": "https://plot.ly"
       },
       "data": [
        {
         "domain": {
          "x": [
           0,
           1
          ],
          "y": [
           0,
           1
          ]
         },
         "hole": 0.4,
         "hovertemplate": "GCC_NAME21=%{label}<br>count=%{value}<extra></extra>",
         "labels": [
          "Australian Capital Territory",
          "Greater Adelaide",
          "Greater Brisbane",
          "Greater Darwin",
          "Greater Hobart",
          "Greater Melbourne",
          "Greater Perth",
          "Greater Sydney",
          "Rest of NSW",
          "Rest of NT",
          "Rest of Qld",
          "Rest of SA",
          "Rest of Tas.",
          "Rest of Vic.",
          "Rest of WA"
         ],
         "legendgroup": "",
         "name": "",
         "showlegend": true,
         "type": "pie",
         "values": [
          65,
          137,
          91,
          6,
          54,
          1842,
          115,
          1971,
          321,
          18,
          114,
          162,
          23,
          130,
          5
         ]
        }
       ],
       "layout": {
        "font": {
         "color": "#FFFFFF"
        },
        "height": 616,
        "legend": {
         "tracegroupgap": 0
        },
        "margin": {
         "b": 0,
         "l": 0,
         "r": 0,
         "t": 50
        },
        "paper_bgcolor": "rgba(0,0,0,0)",
        "piecolorway": [
         "rgb(253, 224, 197)",
         "rgb(250, 203, 166)",
         "rgb(248, 181, 139)",
         "rgb(245, 158, 114)",
         "rgb(242, 133, 93)",
         "rgb(239, 106, 76)",
         "rgb(235, 74, 64)"
        ],
        "plot_bgcolor": "rgba(0,0,0,0)",
        "template": {
         "data": {
          "bar": [
           {
            "error_x": {
             "color": "#2a3f5f"
            },
            "error_y": {
             "color": "#2a3f5f"
            },
            "marker": {
             "line": {
              "color": "#E5ECF6",
              "width": 0.5
             },
             "pattern": {
              "fillmode": "overlay",
              "size": 10,
              "solidity": 0.2
             }
            },
            "type": "bar"
           }
          ],
          "barpolar": [
           {
            "marker": {
             "line": {
              "color": "#E5ECF6",
              "width": 0.5
             },
             "pattern": {
              "fillmode": "overlay",
              "size": 10,
              "solidity": 0.2
             }
            },
            "type": "barpolar"
           }
          ],
          "carpet": [
           {
            "aaxis": {
             "endlinecolor": "#2a3f5f",
             "gridcolor": "white",
             "linecolor": "white",
             "minorgridcolor": "white",
             "startlinecolor": "#2a3f5f"
            },
            "baxis": {
             "endlinecolor": "#2a3f5f",
             "gridcolor": "white",
             "linecolor": "white",
             "minorgridcolor": "white",
             "startlinecolor": "#2a3f5f"
            },
            "type": "carpet"
           }
          ],
          "choropleth": [
           {
            "colorbar": {
             "outlinewidth": 0,
             "ticks": ""
            },
            "type": "choropleth"
           }
          ],
          "contour": [
           {
            "colorbar": {
             "outlinewidth": 0,
             "ticks": ""
            },
            "colorscale": [
             [
              0,
              "#0d0887"
             ],
             [
              0.1111111111111111,
              "#46039f"
             ],
             [
              0.2222222222222222,
              "#7201a8"
             ],
             [
              0.3333333333333333,
              "#9c179e"
             ],
             [
              0.4444444444444444,
              "#bd3786"
             ],
             [
              0.5555555555555556,
              "#d8576b"
             ],
             [
              0.6666666666666666,
              "#ed7953"
             ],
             [
              0.7777777777777778,
              "#fb9f3a"
             ],
             [
              0.8888888888888888,
              "#fdca26"
             ],
             [
              1,
              "#f0f921"
             ]
            ],
            "type": "contour"
           }
          ],
          "contourcarpet": [
           {
            "colorbar": {
             "outlinewidth": 0,
             "ticks": ""
            },
            "type": "contourcarpet"
           }
          ],
          "heatmap": [
           {
            "colorbar": {
             "outlinewidth": 0,
             "ticks": ""
            },
            "colorscale": [
             [
              0,
              "#0d0887"
             ],
             [
              0.1111111111111111,
              "#46039f"
             ],
             [
              0.2222222222222222,
              "#7201a8"
             ],
             [
              0.3333333333333333,
              "#9c179e"
             ],
             [
              0.4444444444444444,
              "#bd3786"
             ],
             [
              0.5555555555555556,
              "#d8576b"
             ],
             [
              0.6666666666666666,
              "#ed7953"
             ],
             [
              0.7777777777777778,
              "#fb9f3a"
             ],
             [
              0.8888888888888888,
              "#fdca26"
             ],
             [
              1,
              "#f0f921"
             ]
            ],
            "type": "heatmap"
           }
          ],
          "heatmapgl": [
           {
            "colorbar": {
             "outlinewidth": 0,
             "ticks": ""
            },
            "colorscale": [
             [
              0,
              "#0d0887"
             ],
             [
              0.1111111111111111,
              "#46039f"
             ],
             [
              0.2222222222222222,
              "#7201a8"
             ],
             [
              0.3333333333333333,
              "#9c179e"
             ],
             [
              0.4444444444444444,
              "#bd3786"
             ],
             [
              0.5555555555555556,
              "#d8576b"
             ],
             [
              0.6666666666666666,
              "#ed7953"
             ],
             [
              0.7777777777777778,
              "#fb9f3a"
             ],
             [
              0.8888888888888888,
              "#fdca26"
             ],
             [
              1,
              "#f0f921"
             ]
            ],
            "type": "heatmapgl"
           }
          ],
          "histogram": [
           {
            "marker": {
             "pattern": {
              "fillmode": "overlay",
              "size": 10,
              "solidity": 0.2
             }
            },
            "type": "histogram"
           }
          ],
          "histogram2d": [
           {
            "colorbar": {
             "outlinewidth": 0,
             "ticks": ""
            },
            "colorscale": [
             [
              0,
              "#0d0887"
             ],
             [
              0.1111111111111111,
              "#46039f"
             ],
             [
              0.2222222222222222,
              "#7201a8"
             ],
             [
              0.3333333333333333,
              "#9c179e"
             ],
             [
              0.4444444444444444,
              "#bd3786"
             ],
             [
              0.5555555555555556,
              "#d8576b"
             ],
             [
              0.6666666666666666,
              "#ed7953"
             ],
             [
              0.7777777777777778,
              "#fb9f3a"
             ],
             [
              0.8888888888888888,
              "#fdca26"
             ],
             [
              1,
              "#f0f921"
             ]
            ],
            "type": "histogram2d"
           }
          ],
          "histogram2dcontour": [
           {
            "colorbar": {
             "outlinewidth": 0,
             "ticks": ""
            },
            "colorscale": [
             [
              0,
              "#0d0887"
             ],
             [
              0.1111111111111111,
              "#46039f"
             ],
             [
              0.2222222222222222,
              "#7201a8"
             ],
             [
              0.3333333333333333,
              "#9c179e"
             ],
             [
              0.4444444444444444,
              "#bd3786"
             ],
             [
              0.5555555555555556,
              "#d8576b"
             ],
             [
              0.6666666666666666,
              "#ed7953"
             ],
             [
              0.7777777777777778,
              "#fb9f3a"
             ],
             [
              0.8888888888888888,
              "#fdca26"
             ],
             [
              1,
              "#f0f921"
             ]
            ],
            "type": "histogram2dcontour"
           }
          ],
          "mesh3d": [
           {
            "colorbar": {
             "outlinewidth": 0,
             "ticks": ""
            },
            "type": "mesh3d"
           }
          ],
          "parcoords": [
           {
            "line": {
             "colorbar": {
              "outlinewidth": 0,
              "ticks": ""
             }
            },
            "type": "parcoords"
           }
          ],
          "pie": [
           {
            "automargin": true,
            "type": "pie"
           }
          ],
          "scatter": [
           {
            "fillpattern": {
             "fillmode": "overlay",
             "size": 10,
             "solidity": 0.2
            },
            "type": "scatter"
           }
          ],
          "scatter3d": [
           {
            "line": {
             "colorbar": {
              "outlinewidth": 0,
              "ticks": ""
             }
            },
            "marker": {
             "colorbar": {
              "outlinewidth": 0,
              "ticks": ""
             }
            },
            "type": "scatter3d"
           }
          ],
          "scattercarpet": [
           {
            "marker": {
             "colorbar": {
              "outlinewidth": 0,
              "ticks": ""
             }
            },
            "type": "scattercarpet"
           }
          ],
          "scattergeo": [
           {
            "marker": {
             "colorbar": {
              "outlinewidth": 0,
              "ticks": ""
             }
            },
            "type": "scattergeo"
           }
          ],
          "scattergl": [
           {
            "marker": {
             "colorbar": {
              "outlinewidth": 0,
              "ticks": ""
             }
            },
            "type": "scattergl"
           }
          ],
          "scattermapbox": [
           {
            "marker": {
             "colorbar": {
              "outlinewidth": 0,
              "ticks": ""
             }
            },
            "type": "scattermapbox"
           }
          ],
          "scatterpolar": [
           {
            "marker": {
             "colorbar": {
              "outlinewidth": 0,
              "ticks": ""
             }
            },
            "type": "scatterpolar"
           }
          ],
          "scatterpolargl": [
           {
            "marker": {
             "colorbar": {
              "outlinewidth": 0,
              "ticks": ""
             }
            },
            "type": "scatterpolargl"
           }
          ],
          "scatterternary": [
           {
            "marker": {
             "colorbar": {
              "outlinewidth": 0,
              "ticks": ""
             }
            },
            "type": "scatterternary"
           }
          ],
          "surface": [
           {
            "colorbar": {
             "outlinewidth": 0,
             "ticks": ""
            },
            "colorscale": [
             [
              0,
              "#0d0887"
             ],
             [
              0.1111111111111111,
              "#46039f"
             ],
             [
              0.2222222222222222,
              "#7201a8"
             ],
             [
              0.3333333333333333,
              "#9c179e"
             ],
             [
              0.4444444444444444,
              "#bd3786"
             ],
             [
              0.5555555555555556,
              "#d8576b"
             ],
             [
              0.6666666666666666,
              "#ed7953"
             ],
             [
              0.7777777777777778,
              "#fb9f3a"
             ],
             [
              0.8888888888888888,
              "#fdca26"
             ],
             [
              1,
              "#f0f921"
             ]
            ],
            "type": "surface"
           }
          ],
          "table": [
           {
            "cells": {
             "fill": {
              "color": "#EBF0F8"
             },
             "line": {
              "color": "white"
             }
            },
            "header": {
             "fill": {
              "color": "#C8D4E3"
             },
             "line": {
              "color": "white"
             }
            },
            "type": "table"
           }
          ]
         },
         "layout": {
          "annotationdefaults": {
           "arrowcolor": "#2a3f5f",
           "arrowhead": 0,
           "arrowwidth": 1
          },
          "autotypenumbers": "strict",
          "coloraxis": {
           "colorbar": {
            "outlinewidth": 0,
            "ticks": ""
           }
          },
          "colorscale": {
           "diverging": [
            [
             0,
             "#8e0152"
            ],
            [
             0.1,
             "#c51b7d"
            ],
            [
             0.2,
             "#de77ae"
            ],
            [
             0.3,
             "#f1b6da"
            ],
            [
             0.4,
             "#fde0ef"
            ],
            [
             0.5,
             "#f7f7f7"
            ],
            [
             0.6,
             "#e6f5d0"
            ],
            [
             0.7,
             "#b8e186"
            ],
            [
             0.8,
             "#7fbc41"
            ],
            [
             0.9,
             "#4d9221"
            ],
            [
             1,
             "#276419"
            ]
           ],
           "sequential": [
            [
             0,
             "#0d0887"
            ],
            [
             0.1111111111111111,
             "#46039f"
            ],
            [
             0.2222222222222222,
             "#7201a8"
            ],
            [
             0.3333333333333333,
             "#9c179e"
            ],
            [
             0.4444444444444444,
             "#bd3786"
            ],
            [
             0.5555555555555556,
             "#d8576b"
            ],
            [
             0.6666666666666666,
             "#ed7953"
            ],
            [
             0.7777777777777778,
             "#fb9f3a"
            ],
            [
             0.8888888888888888,
             "#fdca26"
            ],
            [
             1,
             "#f0f921"
            ]
           ],
           "sequentialminus": [
            [
             0,
             "#0d0887"
            ],
            [
             0.1111111111111111,
             "#46039f"
            ],
            [
             0.2222222222222222,
             "#7201a8"
            ],
            [
             0.3333333333333333,
             "#9c179e"
            ],
            [
             0.4444444444444444,
             "#bd3786"
            ],
            [
             0.5555555555555556,
             "#d8576b"
            ],
            [
             0.6666666666666666,
             "#ed7953"
            ],
            [
             0.7777777777777778,
             "#fb9f3a"
            ],
            [
             0.8888888888888888,
             "#fdca26"
            ],
            [
             1,
             "#f0f921"
            ]
           ]
          },
          "colorway": [
           "#636efa",
           "#EF553B",
           "#00cc96",
           "#ab63fa",
           "#FFA15A",
           "#19d3f3",
           "#FF6692",
           "#B6E880",
           "#FF97FF",
           "#FECB52"
          ],
          "font": {
           "color": "#2a3f5f"
          },
          "geo": {
           "bgcolor": "white",
           "lakecolor": "white",
           "landcolor": "#E5ECF6",
           "showlakes": true,
           "showland": true,
           "subunitcolor": "white"
          },
          "hoverlabel": {
           "align": "left"
          },
          "hovermode": "closest",
          "mapbox": {
           "style": "light"
          },
          "paper_bgcolor": "white",
          "plot_bgcolor": "#E5ECF6",
          "polar": {
           "angularaxis": {
            "gridcolor": "white",
            "linecolor": "white",
            "ticks": ""
           },
           "bgcolor": "#E5ECF6",
           "radialaxis": {
            "gridcolor": "white",
            "linecolor": "white",
            "ticks": ""
           }
          },
          "scene": {
           "xaxis": {
            "backgroundcolor": "#E5ECF6",
            "gridcolor": "white",
            "gridwidth": 2,
            "linecolor": "white",
            "showbackground": true,
            "ticks": "",
            "zerolinecolor": "white"
           },
           "yaxis": {
            "backgroundcolor": "#E5ECF6",
            "gridcolor": "white",
            "gridwidth": 2,
            "linecolor": "white",
            "showbackground": true,
            "ticks": "",
            "zerolinecolor": "white"
           },
           "zaxis": {
            "backgroundcolor": "#E5ECF6",
            "gridcolor": "white",
            "gridwidth": 2,
            "linecolor": "white",
            "showbackground": true,
            "ticks": "",
            "zerolinecolor": "white"
           }
          },
          "shapedefaults": {
           "line": {
            "color": "#2a3f5f"
           }
          },
          "ternary": {
           "aaxis": {
            "gridcolor": "white",
            "linecolor": "white",
            "ticks": ""
           },
           "baxis": {
            "gridcolor": "white",
            "linecolor": "white",
            "ticks": ""
           },
           "bgcolor": "#E5ECF6",
           "caxis": {
            "gridcolor": "white",
            "linecolor": "white",
            "ticks": ""
           }
          },
          "title": {
           "x": 0.05
          },
          "xaxis": {
           "automargin": true,
           "gridcolor": "white",
           "linecolor": "white",
           "ticks": "",
           "title": {
            "standoff": 15
           },
           "zerolinecolor": "white",
           "zerolinewidth": 2
          },
          "yaxis": {
           "automargin": true,
           "gridcolor": "white",
           "linecolor": "white",
           "ticks": "",
           "title": {
            "standoff": 15
           },
           "zerolinecolor": "white",
           "zerolinewidth": 2
          }
         }
        },
        "title": {
         "text": "Sentiment Count by Area"
        }
       }
      }
     },
     "metadata": {},
     "output_type": "display_data"
    }
   ],
   "source": [
    "pie_fig = px.pie(sentiment_overall_agg, values='count', \n",
    "            names='GCC_NAME21', \n",
    "            title='Sentiment Count by Area',\n",
    "            color_discrete_sequence=px.colors.sequential.Peach,\n",
    "            height=616,\n",
    "            hole=0.4)\n",
    "pie_fig.update_layout(\n",
    "                margin={\"r\":0,\"t\":50,\"l\":0,\"b\":0},\n",
    "                paper_bgcolor='rgba(0,0,0,0)', \n",
    "                plot_bgcolor='rgba(0,0,0,0)',\n",
    "                font_color='#FFFFFF')\n",
    "# pie_fig.show() #comment this out for flask app"
   ]
  },
  {
   "cell_type": "code",
   "execution_count": 15,
   "metadata": {},
   "outputs": [
    {
     "data": {
      "application/vnd.plotly.v1+json": {
       "config": {
        "plotlyServerURL": "https://plot.ly"
       },
       "data": [
        {
         "delta": {
          "reference": 0.257531218925421
         },
         "domain": {
          "column": 0,
          "row": 0
         },
         "mode": "number+delta",
         "title": {
          "text": "Greater Melbourne<br> Avg. Sentiment Now<br><span style='font-size:0.8em;color:gray'>Compare to previous year</span>"
         },
         "type": "indicator",
         "value": 0.17935996373998903
        },
        {
         "delta": {
          "reference": 0.2543520822037196
         },
         "domain": {
          "column": 1,
          "row": 0
         },
         "mode": "number+delta",
         "title": {
          "text": "Greater Sydney<br> Avg. Sentiment Now<br><span style='font-size:0.8em;color:gray'>Compare to previous year</span>"
         },
         "type": "indicator",
         "value": 0.18833563025374953
        },
        {
         "domain": {
          "column": 2,
          "row": 0
         },
         "gauge": {
          "axis": {
           "range": [
            -0.9239,
            0.9818
           ]
          },
          "bar": {
           "color": "orange"
          }
         },
         "mode": "gauge+number",
         "title": {
          "text": "Greater Melboourne <br>Overall Sentiment"
         },
         "type": "indicator",
         "value": 0.23191120737323986
        },
        {
         "domain": {
          "column": 3,
          "row": 0
         },
         "gauge": {
          "axis": {
           "range": [
            -0.9239,
            0.9818
           ]
          },
          "bar": {
           "color": "orange"
          }
         },
         "mode": "gauge+number",
         "title": {
          "text": "Greater Sydney <br>Overall Sentiment"
         },
         "type": "indicator",
         "value": 0.2957266641468778
        }
       ],
       "layout": {
        "font": {
         "color": "#FFFFFF"
        },
        "grid": {
         "columns": 4,
         "pattern": "independent",
         "rows": 1
        },
        "paper_bgcolor": "rgba(0,0,0,0)",
        "plot_bgcolor": "rgba(0,0,0,0)",
        "template": {
         "data": {
          "bar": [
           {
            "error_x": {
             "color": "#2a3f5f"
            },
            "error_y": {
             "color": "#2a3f5f"
            },
            "marker": {
             "line": {
              "color": "#E5ECF6",
              "width": 0.5
             },
             "pattern": {
              "fillmode": "overlay",
              "size": 10,
              "solidity": 0.2
             }
            },
            "type": "bar"
           }
          ],
          "barpolar": [
           {
            "marker": {
             "line": {
              "color": "#E5ECF6",
              "width": 0.5
             },
             "pattern": {
              "fillmode": "overlay",
              "size": 10,
              "solidity": 0.2
             }
            },
            "type": "barpolar"
           }
          ],
          "carpet": [
           {
            "aaxis": {
             "endlinecolor": "#2a3f5f",
             "gridcolor": "white",
             "linecolor": "white",
             "minorgridcolor": "white",
             "startlinecolor": "#2a3f5f"
            },
            "baxis": {
             "endlinecolor": "#2a3f5f",
             "gridcolor": "white",
             "linecolor": "white",
             "minorgridcolor": "white",
             "startlinecolor": "#2a3f5f"
            },
            "type": "carpet"
           }
          ],
          "choropleth": [
           {
            "colorbar": {
             "outlinewidth": 0,
             "ticks": ""
            },
            "type": "choropleth"
           }
          ],
          "contour": [
           {
            "colorbar": {
             "outlinewidth": 0,
             "ticks": ""
            },
            "colorscale": [
             [
              0,
              "#0d0887"
             ],
             [
              0.1111111111111111,
              "#46039f"
             ],
             [
              0.2222222222222222,
              "#7201a8"
             ],
             [
              0.3333333333333333,
              "#9c179e"
             ],
             [
              0.4444444444444444,
              "#bd3786"
             ],
             [
              0.5555555555555556,
              "#d8576b"
             ],
             [
              0.6666666666666666,
              "#ed7953"
             ],
             [
              0.7777777777777778,
              "#fb9f3a"
             ],
             [
              0.8888888888888888,
              "#fdca26"
             ],
             [
              1,
              "#f0f921"
             ]
            ],
            "type": "contour"
           }
          ],
          "contourcarpet": [
           {
            "colorbar": {
             "outlinewidth": 0,
             "ticks": ""
            },
            "type": "contourcarpet"
           }
          ],
          "heatmap": [
           {
            "colorbar": {
             "outlinewidth": 0,
             "ticks": ""
            },
            "colorscale": [
             [
              0,
              "#0d0887"
             ],
             [
              0.1111111111111111,
              "#46039f"
             ],
             [
              0.2222222222222222,
              "#7201a8"
             ],
             [
              0.3333333333333333,
              "#9c179e"
             ],
             [
              0.4444444444444444,
              "#bd3786"
             ],
             [
              0.5555555555555556,
              "#d8576b"
             ],
             [
              0.6666666666666666,
              "#ed7953"
             ],
             [
              0.7777777777777778,
              "#fb9f3a"
             ],
             [
              0.8888888888888888,
              "#fdca26"
             ],
             [
              1,
              "#f0f921"
             ]
            ],
            "type": "heatmap"
           }
          ],
          "heatmapgl": [
           {
            "colorbar": {
             "outlinewidth": 0,
             "ticks": ""
            },
            "colorscale": [
             [
              0,
              "#0d0887"
             ],
             [
              0.1111111111111111,
              "#46039f"
             ],
             [
              0.2222222222222222,
              "#7201a8"
             ],
             [
              0.3333333333333333,
              "#9c179e"
             ],
             [
              0.4444444444444444,
              "#bd3786"
             ],
             [
              0.5555555555555556,
              "#d8576b"
             ],
             [
              0.6666666666666666,
              "#ed7953"
             ],
             [
              0.7777777777777778,
              "#fb9f3a"
             ],
             [
              0.8888888888888888,
              "#fdca26"
             ],
             [
              1,
              "#f0f921"
             ]
            ],
            "type": "heatmapgl"
           }
          ],
          "histogram": [
           {
            "marker": {
             "pattern": {
              "fillmode": "overlay",
              "size": 10,
              "solidity": 0.2
             }
            },
            "type": "histogram"
           }
          ],
          "histogram2d": [
           {
            "colorbar": {
             "outlinewidth": 0,
             "ticks": ""
            },
            "colorscale": [
             [
              0,
              "#0d0887"
             ],
             [
              0.1111111111111111,
              "#46039f"
             ],
             [
              0.2222222222222222,
              "#7201a8"
             ],
             [
              0.3333333333333333,
              "#9c179e"
             ],
             [
              0.4444444444444444,
              "#bd3786"
             ],
             [
              0.5555555555555556,
              "#d8576b"
             ],
             [
              0.6666666666666666,
              "#ed7953"
             ],
             [
              0.7777777777777778,
              "#fb9f3a"
             ],
             [
              0.8888888888888888,
              "#fdca26"
             ],
             [
              1,
              "#f0f921"
             ]
            ],
            "type": "histogram2d"
           }
          ],
          "histogram2dcontour": [
           {
            "colorbar": {
             "outlinewidth": 0,
             "ticks": ""
            },
            "colorscale": [
             [
              0,
              "#0d0887"
             ],
             [
              0.1111111111111111,
              "#46039f"
             ],
             [
              0.2222222222222222,
              "#7201a8"
             ],
             [
              0.3333333333333333,
              "#9c179e"
             ],
             [
              0.4444444444444444,
              "#bd3786"
             ],
             [
              0.5555555555555556,
              "#d8576b"
             ],
             [
              0.6666666666666666,
              "#ed7953"
             ],
             [
              0.7777777777777778,
              "#fb9f3a"
             ],
             [
              0.8888888888888888,
              "#fdca26"
             ],
             [
              1,
              "#f0f921"
             ]
            ],
            "type": "histogram2dcontour"
           }
          ],
          "mesh3d": [
           {
            "colorbar": {
             "outlinewidth": 0,
             "ticks": ""
            },
            "type": "mesh3d"
           }
          ],
          "parcoords": [
           {
            "line": {
             "colorbar": {
              "outlinewidth": 0,
              "ticks": ""
             }
            },
            "type": "parcoords"
           }
          ],
          "pie": [
           {
            "automargin": true,
            "type": "pie"
           }
          ],
          "scatter": [
           {
            "fillpattern": {
             "fillmode": "overlay",
             "size": 10,
             "solidity": 0.2
            },
            "type": "scatter"
           }
          ],
          "scatter3d": [
           {
            "line": {
             "colorbar": {
              "outlinewidth": 0,
              "ticks": ""
             }
            },
            "marker": {
             "colorbar": {
              "outlinewidth": 0,
              "ticks": ""
             }
            },
            "type": "scatter3d"
           }
          ],
          "scattercarpet": [
           {
            "marker": {
             "colorbar": {
              "outlinewidth": 0,
              "ticks": ""
             }
            },
            "type": "scattercarpet"
           }
          ],
          "scattergeo": [
           {
            "marker": {
             "colorbar": {
              "outlinewidth": 0,
              "ticks": ""
             }
            },
            "type": "scattergeo"
           }
          ],
          "scattergl": [
           {
            "marker": {
             "colorbar": {
              "outlinewidth": 0,
              "ticks": ""
             }
            },
            "type": "scattergl"
           }
          ],
          "scattermapbox": [
           {
            "marker": {
             "colorbar": {
              "outlinewidth": 0,
              "ticks": ""
             }
            },
            "type": "scattermapbox"
           }
          ],
          "scatterpolar": [
           {
            "marker": {
             "colorbar": {
              "outlinewidth": 0,
              "ticks": ""
             }
            },
            "type": "scatterpolar"
           }
          ],
          "scatterpolargl": [
           {
            "marker": {
             "colorbar": {
              "outlinewidth": 0,
              "ticks": ""
             }
            },
            "type": "scatterpolargl"
           }
          ],
          "scatterternary": [
           {
            "marker": {
             "colorbar": {
              "outlinewidth": 0,
              "ticks": ""
             }
            },
            "type": "scatterternary"
           }
          ],
          "surface": [
           {
            "colorbar": {
             "outlinewidth": 0,
             "ticks": ""
            },
            "colorscale": [
             [
              0,
              "#0d0887"
             ],
             [
              0.1111111111111111,
              "#46039f"
             ],
             [
              0.2222222222222222,
              "#7201a8"
             ],
             [
              0.3333333333333333,
              "#9c179e"
             ],
             [
              0.4444444444444444,
              "#bd3786"
             ],
             [
              0.5555555555555556,
              "#d8576b"
             ],
             [
              0.6666666666666666,
              "#ed7953"
             ],
             [
              0.7777777777777778,
              "#fb9f3a"
             ],
             [
              0.8888888888888888,
              "#fdca26"
             ],
             [
              1,
              "#f0f921"
             ]
            ],
            "type": "surface"
           }
          ],
          "table": [
           {
            "cells": {
             "fill": {
              "color": "#EBF0F8"
             },
             "line": {
              "color": "white"
             }
            },
            "header": {
             "fill": {
              "color": "#C8D4E3"
             },
             "line": {
              "color": "white"
             }
            },
            "type": "table"
           }
          ]
         },
         "layout": {
          "annotationdefaults": {
           "arrowcolor": "#2a3f5f",
           "arrowhead": 0,
           "arrowwidth": 1
          },
          "autotypenumbers": "strict",
          "coloraxis": {
           "colorbar": {
            "outlinewidth": 0,
            "ticks": ""
           }
          },
          "colorscale": {
           "diverging": [
            [
             0,
             "#8e0152"
            ],
            [
             0.1,
             "#c51b7d"
            ],
            [
             0.2,
             "#de77ae"
            ],
            [
             0.3,
             "#f1b6da"
            ],
            [
             0.4,
             "#fde0ef"
            ],
            [
             0.5,
             "#f7f7f7"
            ],
            [
             0.6,
             "#e6f5d0"
            ],
            [
             0.7,
             "#b8e186"
            ],
            [
             0.8,
             "#7fbc41"
            ],
            [
             0.9,
             "#4d9221"
            ],
            [
             1,
             "#276419"
            ]
           ],
           "sequential": [
            [
             0,
             "#0d0887"
            ],
            [
             0.1111111111111111,
             "#46039f"
            ],
            [
             0.2222222222222222,
             "#7201a8"
            ],
            [
             0.3333333333333333,
             "#9c179e"
            ],
            [
             0.4444444444444444,
             "#bd3786"
            ],
            [
             0.5555555555555556,
             "#d8576b"
            ],
            [
             0.6666666666666666,
             "#ed7953"
            ],
            [
             0.7777777777777778,
             "#fb9f3a"
            ],
            [
             0.8888888888888888,
             "#fdca26"
            ],
            [
             1,
             "#f0f921"
            ]
           ],
           "sequentialminus": [
            [
             0,
             "#0d0887"
            ],
            [
             0.1111111111111111,
             "#46039f"
            ],
            [
             0.2222222222222222,
             "#7201a8"
            ],
            [
             0.3333333333333333,
             "#9c179e"
            ],
            [
             0.4444444444444444,
             "#bd3786"
            ],
            [
             0.5555555555555556,
             "#d8576b"
            ],
            [
             0.6666666666666666,
             "#ed7953"
            ],
            [
             0.7777777777777778,
             "#fb9f3a"
            ],
            [
             0.8888888888888888,
             "#fdca26"
            ],
            [
             1,
             "#f0f921"
            ]
           ]
          },
          "colorway": [
           "#636efa",
           "#EF553B",
           "#00cc96",
           "#ab63fa",
           "#FFA15A",
           "#19d3f3",
           "#FF6692",
           "#B6E880",
           "#FF97FF",
           "#FECB52"
          ],
          "font": {
           "color": "#2a3f5f"
          },
          "geo": {
           "bgcolor": "white",
           "lakecolor": "white",
           "landcolor": "#E5ECF6",
           "showlakes": true,
           "showland": true,
           "subunitcolor": "white"
          },
          "hoverlabel": {
           "align": "left"
          },
          "hovermode": "closest",
          "mapbox": {
           "style": "light"
          },
          "paper_bgcolor": "white",
          "plot_bgcolor": "#E5ECF6",
          "polar": {
           "angularaxis": {
            "gridcolor": "white",
            "linecolor": "white",
            "ticks": ""
           },
           "bgcolor": "#E5ECF6",
           "radialaxis": {
            "gridcolor": "white",
            "linecolor": "white",
            "ticks": ""
           }
          },
          "scene": {
           "xaxis": {
            "backgroundcolor": "#E5ECF6",
            "gridcolor": "white",
            "gridwidth": 2,
            "linecolor": "white",
            "showbackground": true,
            "ticks": "",
            "zerolinecolor": "white"
           },
           "yaxis": {
            "backgroundcolor": "#E5ECF6",
            "gridcolor": "white",
            "gridwidth": 2,
            "linecolor": "white",
            "showbackground": true,
            "ticks": "",
            "zerolinecolor": "white"
           },
           "zaxis": {
            "backgroundcolor": "#E5ECF6",
            "gridcolor": "white",
            "gridwidth": 2,
            "linecolor": "white",
            "showbackground": true,
            "ticks": "",
            "zerolinecolor": "white"
           }
          },
          "shapedefaults": {
           "line": {
            "color": "#2a3f5f"
           }
          },
          "ternary": {
           "aaxis": {
            "gridcolor": "white",
            "linecolor": "white",
            "ticks": ""
           },
           "baxis": {
            "gridcolor": "white",
            "linecolor": "white",
            "ticks": ""
           },
           "bgcolor": "#E5ECF6",
           "caxis": {
            "gridcolor": "white",
            "linecolor": "white",
            "ticks": ""
           }
          },
          "title": {
           "x": 0.05
          },
          "xaxis": {
           "automargin": true,
           "gridcolor": "white",
           "linecolor": "white",
           "ticks": "",
           "title": {
            "standoff": 15
           },
           "zerolinecolor": "white",
           "zerolinewidth": 2
          },
          "yaxis": {
           "automargin": true,
           "gridcolor": "white",
           "linecolor": "white",
           "ticks": "",
           "title": {
            "standoff": 15
           },
           "zerolinecolor": "white",
           "zerolinewidth": 2
          }
         }
        }
       }
      }
     },
     "metadata": {},
     "output_type": "display_data"
    }
   ],
   "source": [
    "indicator_fig = go.Figure()\n",
    "indicator_fig.add_trace(go.Indicator(\n",
    "    mode = \"number+delta\",\n",
    "    value = melb_sentiment_now,\n",
    "    title = {\"text\": \"Greater Melbourne<br> Avg. Sentiment Now<br><span style='font-size:0.8em;color:gray'>Compare to previous year</span>\"},\n",
    "    delta = {'reference': melb_sentiment_prev},\n",
    "    domain = {'row': 0, 'column': 0}))\n",
    "indicator_fig.add_trace(go.Indicator(\n",
    "    mode = \"number+delta\",\n",
    "    value = syd_sentiment_now,\n",
    "    delta = {'reference': syd_sentiment_prev},\n",
    "    title = {\"text\": \"Greater Sydney<br> Avg. Sentiment Now<br><span style='font-size:0.8em;color:gray'>Compare to previous year</span>\"},\n",
    "    domain = {'row': 0, 'column': 1}))\n",
    "indicator_fig.add_trace(go.Indicator(\n",
    "    mode = \"gauge+number\",\n",
    "    value = melb_sentiment_overall,\n",
    "    gauge = {\n",
    "        'axis': {'range': [min(sentiment_df['sentiment']), max(sentiment_df['sentiment'])]}, \n",
    "        'bar': {'color': \"orange\"}},\n",
    "    title = {\"text\": \"Greater Melboourne <br>Overall Sentiment\"},\n",
    "    domain = {'row': 0, 'column': 2}))\n",
    "indicator_fig.add_trace(go.Indicator(\n",
    "    mode = \"gauge+number\",\n",
    "    value = syd_sentiment_overall,\n",
    "    gauge = {\n",
    "        'axis': {'range': [min(sentiment_df['sentiment']), max(sentiment_df['sentiment'])]}, \n",
    "        'bar': {'color': \"orange\"}},\n",
    "    title = {\"text\": \"Greater Sydney <br>Overall Sentiment\"},\n",
    "    domain = {'row': 0, 'column': 3}))\n",
    "\n",
    "indicator_fig.update_layout(\n",
    "    grid = {'rows': 1, 'columns': 4, 'pattern': \"independent\"},\n",
    "    paper_bgcolor='rgba(0,0,0,0)', \n",
    "    plot_bgcolor='rgba(0,0,0,0)',\n",
    "    font_color='#FFFFFF')\n",
    "# indicator_fig.show() # comment this line for flask app"
   ]
  },
  {
   "cell_type": "code",
   "execution_count": 16,
   "metadata": {},
   "outputs": [],
   "source": [
    "sa2_gdf_topic = sa2_gdf.copy()\n",
    "topic_df = topic_df.merge(sa2_gdf_topic, left_on='area', right_on='SA2_NAME21', how='left')\n",
    "topic_df = gpd.GeoDataFrame(topic_df, crs=\"EPSG:4283\", geometry=topic_df.geometry)\n",
    "# topic_df.head() # comment this out for flask app"
   ]
  },
  {
   "cell_type": "code",
   "execution_count": 17,
   "metadata": {},
   "outputs": [],
   "source": [
    "topic_df_overtime = topic_df.groupby([topic_df.time.dt.year, topic_df.topic]).mean().reset_index()\n",
    "# topic_df_overtime[topic_df_overtime.topic == \"environment\"] "
   ]
  },
  {
   "cell_type": "code",
   "execution_count": 18,
   "metadata": {},
   "outputs": [
    {
     "data": {
      "application/vnd.plotly.v1+json": {
       "config": {
        "plotlyServerURL": "https://plot.ly"
       },
       "data": [
        {
         "connectgaps": true,
         "name": "environment",
         "type": "scatter",
         "x": [
          2016,
          2017,
          2018,
          2019,
          2020,
          2021,
          2022
         ],
         "y": [
          0.19715000000000002,
          0.286405,
          0.19910833333333333,
          0.35553425925925924,
          0.4511649425287356,
          0.37840958333333335,
          0.1516278676498566
         ]
        },
        {
         "connectgaps": true,
         "name": "transport",
         "type": "scatter",
         "x": [
          2016,
          2017,
          2018,
          2019,
          2020,
          2021,
          2022
         ],
         "y": [
          0.12118125,
          0.02948974358974359,
          0.297375,
          0.25361666666666666,
          0.0042,
          0.20014713178294571,
          0.2024439084335474
         ]
        },
        {
         "connectgaps": true,
         "name": "health",
         "type": "scatter",
         "x": [
          2017,
          2018,
          2019,
          2020,
          2021,
          2022
         ],
         "y": [
          0.2507142857142857,
          0.4602659259259259,
          0.2617875,
          0,
          0.19239993429189856,
          0.18355063327025667
         ]
        }
       ],
       "layout": {
        "font": {
         "color": "#FFFFFF"
        },
        "paper_bgcolor": "rgba(0,0,0,0)",
        "plot_bgcolor": "rgba(0,0,0,0)",
        "template": {
         "data": {
          "bar": [
           {
            "error_x": {
             "color": "#2a3f5f"
            },
            "error_y": {
             "color": "#2a3f5f"
            },
            "marker": {
             "line": {
              "color": "#E5ECF6",
              "width": 0.5
             },
             "pattern": {
              "fillmode": "overlay",
              "size": 10,
              "solidity": 0.2
             }
            },
            "type": "bar"
           }
          ],
          "barpolar": [
           {
            "marker": {
             "line": {
              "color": "#E5ECF6",
              "width": 0.5
             },
             "pattern": {
              "fillmode": "overlay",
              "size": 10,
              "solidity": 0.2
             }
            },
            "type": "barpolar"
           }
          ],
          "carpet": [
           {
            "aaxis": {
             "endlinecolor": "#2a3f5f",
             "gridcolor": "white",
             "linecolor": "white",
             "minorgridcolor": "white",
             "startlinecolor": "#2a3f5f"
            },
            "baxis": {
             "endlinecolor": "#2a3f5f",
             "gridcolor": "white",
             "linecolor": "white",
             "minorgridcolor": "white",
             "startlinecolor": "#2a3f5f"
            },
            "type": "carpet"
           }
          ],
          "choropleth": [
           {
            "colorbar": {
             "outlinewidth": 0,
             "ticks": ""
            },
            "type": "choropleth"
           }
          ],
          "contour": [
           {
            "colorbar": {
             "outlinewidth": 0,
             "ticks": ""
            },
            "colorscale": [
             [
              0,
              "#0d0887"
             ],
             [
              0.1111111111111111,
              "#46039f"
             ],
             [
              0.2222222222222222,
              "#7201a8"
             ],
             [
              0.3333333333333333,
              "#9c179e"
             ],
             [
              0.4444444444444444,
              "#bd3786"
             ],
             [
              0.5555555555555556,
              "#d8576b"
             ],
             [
              0.6666666666666666,
              "#ed7953"
             ],
             [
              0.7777777777777778,
              "#fb9f3a"
             ],
             [
              0.8888888888888888,
              "#fdca26"
             ],
             [
              1,
              "#f0f921"
             ]
            ],
            "type": "contour"
           }
          ],
          "contourcarpet": [
           {
            "colorbar": {
             "outlinewidth": 0,
             "ticks": ""
            },
            "type": "contourcarpet"
           }
          ],
          "heatmap": [
           {
            "colorbar": {
             "outlinewidth": 0,
             "ticks": ""
            },
            "colorscale": [
             [
              0,
              "#0d0887"
             ],
             [
              0.1111111111111111,
              "#46039f"
             ],
             [
              0.2222222222222222,
              "#7201a8"
             ],
             [
              0.3333333333333333,
              "#9c179e"
             ],
             [
              0.4444444444444444,
              "#bd3786"
             ],
             [
              0.5555555555555556,
              "#d8576b"
             ],
             [
              0.6666666666666666,
              "#ed7953"
             ],
             [
              0.7777777777777778,
              "#fb9f3a"
             ],
             [
              0.8888888888888888,
              "#fdca26"
             ],
             [
              1,
              "#f0f921"
             ]
            ],
            "type": "heatmap"
           }
          ],
          "heatmapgl": [
           {
            "colorbar": {
             "outlinewidth": 0,
             "ticks": ""
            },
            "colorscale": [
             [
              0,
              "#0d0887"
             ],
             [
              0.1111111111111111,
              "#46039f"
             ],
             [
              0.2222222222222222,
              "#7201a8"
             ],
             [
              0.3333333333333333,
              "#9c179e"
             ],
             [
              0.4444444444444444,
              "#bd3786"
             ],
             [
              0.5555555555555556,
              "#d8576b"
             ],
             [
              0.6666666666666666,
              "#ed7953"
             ],
             [
              0.7777777777777778,
              "#fb9f3a"
             ],
             [
              0.8888888888888888,
              "#fdca26"
             ],
             [
              1,
              "#f0f921"
             ]
            ],
            "type": "heatmapgl"
           }
          ],
          "histogram": [
           {
            "marker": {
             "pattern": {
              "fillmode": "overlay",
              "size": 10,
              "solidity": 0.2
             }
            },
            "type": "histogram"
           }
          ],
          "histogram2d": [
           {
            "colorbar": {
             "outlinewidth": 0,
             "ticks": ""
            },
            "colorscale": [
             [
              0,
              "#0d0887"
             ],
             [
              0.1111111111111111,
              "#46039f"
             ],
             [
              0.2222222222222222,
              "#7201a8"
             ],
             [
              0.3333333333333333,
              "#9c179e"
             ],
             [
              0.4444444444444444,
              "#bd3786"
             ],
             [
              0.5555555555555556,
              "#d8576b"
             ],
             [
              0.6666666666666666,
              "#ed7953"
             ],
             [
              0.7777777777777778,
              "#fb9f3a"
             ],
             [
              0.8888888888888888,
              "#fdca26"
             ],
             [
              1,
              "#f0f921"
             ]
            ],
            "type": "histogram2d"
           }
          ],
          "histogram2dcontour": [
           {
            "colorbar": {
             "outlinewidth": 0,
             "ticks": ""
            },
            "colorscale": [
             [
              0,
              "#0d0887"
             ],
             [
              0.1111111111111111,
              "#46039f"
             ],
             [
              0.2222222222222222,
              "#7201a8"
             ],
             [
              0.3333333333333333,
              "#9c179e"
             ],
             [
              0.4444444444444444,
              "#bd3786"
             ],
             [
              0.5555555555555556,
              "#d8576b"
             ],
             [
              0.6666666666666666,
              "#ed7953"
             ],
             [
              0.7777777777777778,
              "#fb9f3a"
             ],
             [
              0.8888888888888888,
              "#fdca26"
             ],
             [
              1,
              "#f0f921"
             ]
            ],
            "type": "histogram2dcontour"
           }
          ],
          "mesh3d": [
           {
            "colorbar": {
             "outlinewidth": 0,
             "ticks": ""
            },
            "type": "mesh3d"
           }
          ],
          "parcoords": [
           {
            "line": {
             "colorbar": {
              "outlinewidth": 0,
              "ticks": ""
             }
            },
            "type": "parcoords"
           }
          ],
          "pie": [
           {
            "automargin": true,
            "type": "pie"
           }
          ],
          "scatter": [
           {
            "fillpattern": {
             "fillmode": "overlay",
             "size": 10,
             "solidity": 0.2
            },
            "type": "scatter"
           }
          ],
          "scatter3d": [
           {
            "line": {
             "colorbar": {
              "outlinewidth": 0,
              "ticks": ""
             }
            },
            "marker": {
             "colorbar": {
              "outlinewidth": 0,
              "ticks": ""
             }
            },
            "type": "scatter3d"
           }
          ],
          "scattercarpet": [
           {
            "marker": {
             "colorbar": {
              "outlinewidth": 0,
              "ticks": ""
             }
            },
            "type": "scattercarpet"
           }
          ],
          "scattergeo": [
           {
            "marker": {
             "colorbar": {
              "outlinewidth": 0,
              "ticks": ""
             }
            },
            "type": "scattergeo"
           }
          ],
          "scattergl": [
           {
            "marker": {
             "colorbar": {
              "outlinewidth": 0,
              "ticks": ""
             }
            },
            "type": "scattergl"
           }
          ],
          "scattermapbox": [
           {
            "marker": {
             "colorbar": {
              "outlinewidth": 0,
              "ticks": ""
             }
            },
            "type": "scattermapbox"
           }
          ],
          "scatterpolar": [
           {
            "marker": {
             "colorbar": {
              "outlinewidth": 0,
              "ticks": ""
             }
            },
            "type": "scatterpolar"
           }
          ],
          "scatterpolargl": [
           {
            "marker": {
             "colorbar": {
              "outlinewidth": 0,
              "ticks": ""
             }
            },
            "type": "scatterpolargl"
           }
          ],
          "scatterternary": [
           {
            "marker": {
             "colorbar": {
              "outlinewidth": 0,
              "ticks": ""
             }
            },
            "type": "scatterternary"
           }
          ],
          "surface": [
           {
            "colorbar": {
             "outlinewidth": 0,
             "ticks": ""
            },
            "colorscale": [
             [
              0,
              "#0d0887"
             ],
             [
              0.1111111111111111,
              "#46039f"
             ],
             [
              0.2222222222222222,
              "#7201a8"
             ],
             [
              0.3333333333333333,
              "#9c179e"
             ],
             [
              0.4444444444444444,
              "#bd3786"
             ],
             [
              0.5555555555555556,
              "#d8576b"
             ],
             [
              0.6666666666666666,
              "#ed7953"
             ],
             [
              0.7777777777777778,
              "#fb9f3a"
             ],
             [
              0.8888888888888888,
              "#fdca26"
             ],
             [
              1,
              "#f0f921"
             ]
            ],
            "type": "surface"
           }
          ],
          "table": [
           {
            "cells": {
             "fill": {
              "color": "#EBF0F8"
             },
             "line": {
              "color": "white"
             }
            },
            "header": {
             "fill": {
              "color": "#C8D4E3"
             },
             "line": {
              "color": "white"
             }
            },
            "type": "table"
           }
          ]
         },
         "layout": {
          "annotationdefaults": {
           "arrowcolor": "#2a3f5f",
           "arrowhead": 0,
           "arrowwidth": 1
          },
          "autotypenumbers": "strict",
          "coloraxis": {
           "colorbar": {
            "outlinewidth": 0,
            "ticks": ""
           }
          },
          "colorscale": {
           "diverging": [
            [
             0,
             "#8e0152"
            ],
            [
             0.1,
             "#c51b7d"
            ],
            [
             0.2,
             "#de77ae"
            ],
            [
             0.3,
             "#f1b6da"
            ],
            [
             0.4,
             "#fde0ef"
            ],
            [
             0.5,
             "#f7f7f7"
            ],
            [
             0.6,
             "#e6f5d0"
            ],
            [
             0.7,
             "#b8e186"
            ],
            [
             0.8,
             "#7fbc41"
            ],
            [
             0.9,
             "#4d9221"
            ],
            [
             1,
             "#276419"
            ]
           ],
           "sequential": [
            [
             0,
             "#0d0887"
            ],
            [
             0.1111111111111111,
             "#46039f"
            ],
            [
             0.2222222222222222,
             "#7201a8"
            ],
            [
             0.3333333333333333,
             "#9c179e"
            ],
            [
             0.4444444444444444,
             "#bd3786"
            ],
            [
             0.5555555555555556,
             "#d8576b"
            ],
            [
             0.6666666666666666,
             "#ed7953"
            ],
            [
             0.7777777777777778,
             "#fb9f3a"
            ],
            [
             0.8888888888888888,
             "#fdca26"
            ],
            [
             1,
             "#f0f921"
            ]
           ],
           "sequentialminus": [
            [
             0,
             "#0d0887"
            ],
            [
             0.1111111111111111,
             "#46039f"
            ],
            [
             0.2222222222222222,
             "#7201a8"
            ],
            [
             0.3333333333333333,
             "#9c179e"
            ],
            [
             0.4444444444444444,
             "#bd3786"
            ],
            [
             0.5555555555555556,
             "#d8576b"
            ],
            [
             0.6666666666666666,
             "#ed7953"
            ],
            [
             0.7777777777777778,
             "#fb9f3a"
            ],
            [
             0.8888888888888888,
             "#fdca26"
            ],
            [
             1,
             "#f0f921"
            ]
           ]
          },
          "colorway": [
           "#636efa",
           "#EF553B",
           "#00cc96",
           "#ab63fa",
           "#FFA15A",
           "#19d3f3",
           "#FF6692",
           "#B6E880",
           "#FF97FF",
           "#FECB52"
          ],
          "font": {
           "color": "#2a3f5f"
          },
          "geo": {
           "bgcolor": "white",
           "lakecolor": "white",
           "landcolor": "#E5ECF6",
           "showlakes": true,
           "showland": true,
           "subunitcolor": "white"
          },
          "hoverlabel": {
           "align": "left"
          },
          "hovermode": "closest",
          "mapbox": {
           "style": "light"
          },
          "paper_bgcolor": "white",
          "plot_bgcolor": "#E5ECF6",
          "polar": {
           "angularaxis": {
            "gridcolor": "white",
            "linecolor": "white",
            "ticks": ""
           },
           "bgcolor": "#E5ECF6",
           "radialaxis": {
            "gridcolor": "white",
            "linecolor": "white",
            "ticks": ""
           }
          },
          "scene": {
           "xaxis": {
            "backgroundcolor": "#E5ECF6",
            "gridcolor": "white",
            "gridwidth": 2,
            "linecolor": "white",
            "showbackground": true,
            "ticks": "",
            "zerolinecolor": "white"
           },
           "yaxis": {
            "backgroundcolor": "#E5ECF6",
            "gridcolor": "white",
            "gridwidth": 2,
            "linecolor": "white",
            "showbackground": true,
            "ticks": "",
            "zerolinecolor": "white"
           },
           "zaxis": {
            "backgroundcolor": "#E5ECF6",
            "gridcolor": "white",
            "gridwidth": 2,
            "linecolor": "white",
            "showbackground": true,
            "ticks": "",
            "zerolinecolor": "white"
           }
          },
          "shapedefaults": {
           "line": {
            "color": "#2a3f5f"
           }
          },
          "ternary": {
           "aaxis": {
            "gridcolor": "white",
            "linecolor": "white",
            "ticks": ""
           },
           "baxis": {
            "gridcolor": "white",
            "linecolor": "white",
            "ticks": ""
           },
           "bgcolor": "#E5ECF6",
           "caxis": {
            "gridcolor": "white",
            "linecolor": "white",
            "ticks": ""
           }
          },
          "title": {
           "x": 0.05
          },
          "xaxis": {
           "automargin": true,
           "gridcolor": "white",
           "linecolor": "white",
           "ticks": "",
           "title": {
            "standoff": 15
           },
           "zerolinecolor": "white",
           "zerolinewidth": 2
          },
          "yaxis": {
           "automargin": true,
           "gridcolor": "white",
           "linecolor": "white",
           "ticks": "",
           "title": {
            "standoff": 15
           },
           "zerolinecolor": "white",
           "zerolinewidth": 2
          }
         }
        },
        "title": {
         "text": "Sentiment by Topic Overtime"
        },
        "xaxis": {
         "title": {
          "text": "Year"
         }
        },
        "yaxis": {
         "title": {
          "text": "Sentiment"
         }
        }
       }
      }
     },
     "metadata": {},
     "output_type": "display_data"
    }
   ],
   "source": [
    "lin_fig = go.Figure()\n",
    "\n",
    "for topic in topic_df_overtime.topic.unique():\n",
    "    lin_fig.add_trace(go.Scatter(\n",
    "        x=topic_df_overtime[topic_df_overtime.topic == topic]['time'],\n",
    "        y=topic_df_overtime[topic_df_overtime.topic == topic]['sentiment'],\n",
    "        name=topic,\n",
    "        connectgaps=True\n",
    "    ))\n",
    "\n",
    "lin_fig.update_layout(\n",
    "    title=\"Sentiment by Topic Overtime\",\n",
    "    xaxis_title=\"Year\",\n",
    "    yaxis_title=\"Sentiment\",\n",
    "    paper_bgcolor='rgba(0,0,0,0)', \n",
    "    plot_bgcolor='rgba(0,0,0,0)',\n",
    "    font_color='#FFFFFF'\n",
    ")\n",
    "# lin_fig.show() #comment this for flask app"
   ]
  },
  {
   "cell_type": "markdown",
   "metadata": {},
   "source": [
    "Considering  `envir_test1` data wrangglings below (feel fee to ignore)"
   ]
  },
  {
   "cell_type": "code",
   "execution_count": 19,
   "metadata": {},
   "outputs": [],
   "source": [
    "# envir_topic = envir_db.view('area_week/area_week_topic', include_doc=True)\n",
    "# envir_topic_df = pd.DataFrame((row.key+[row.value['sentiments']['compound']] for row in envir_topic),\n",
    "#                         columns = ['time', 'area', 'topic','sentiment'])\n",
    "# envir_topic_df = envir_topic_df.groupby(['time', 'area', 'topic']).mean().reset_index()\n",
    "# envir_topic_df['time'] = envir_topic_df.apply(lambda row: datetime.strptime(row['time']+'-1', 'w%W-%Y-%w'), axis=1) #append -1 as Monday\n",
    "# envir_topic_df = envir_topic_df[envir_topic_df['area'] != 'zzzzzzzzz']\n",
    "# envir_topic_df.head()"
   ]
  },
  {
   "cell_type": "code",
   "execution_count": 20,
   "metadata": {},
   "outputs": [],
   "source": [
    "# # envir_topic_df = envir_topic_df.merge(sa2_gdf, left_on='area', right_on='SA2_NAME21', how='left')\n",
    "# envir_topic_overall_df = envir_topic_df.groupby(['area', 'topic']).mean().reset_index()\n",
    "# # envir_topic_overall_df.head()\n",
    "\n",
    "# envir_topic_overall_df = envir_topic_overall_df.merge(sa2_gdf, left_on='area', right_on='SA2_NAME21', how='left')\n",
    "# envir_topic_overall_df"
   ]
  },
  {
   "cell_type": "code",
   "execution_count": 21,
   "metadata": {},
   "outputs": [],
   "source": [
    "# # envir_topic_overall.to_crs(pyproj.CRS.from_epsg(4283), inplace=True)\n",
    "# envir_topic_overall_df = gpd.GeoDataFrame(envir_topic_overall_df, crs=\"EPSG:4283\", geometry=envir_topic_overall_df.geometry)\n",
    "# # envir_topic_overall_df.set_index('area', inplace=True)\n",
    "# envir_topic_overall_df.head()"
   ]
  },
  {
   "cell_type": "code",
   "execution_count": 22,
   "metadata": {},
   "outputs": [],
   "source": [
    "# fig = px.choropleth_mapbox(envir_topic_overall_df, geojson=envir_topic_overall_df.geometry, \n",
    "#                             locations=envir_topic_overall_df.index,\n",
    "#                             color=envir_topic_overall_df.sentiment,\n",
    "#                             zoom= 5,\n",
    "#                             center = {\"lat\": -37.8136, \"lon\": 144.9631}, mapbox_style=\"carto-positron\")\n",
    "# fig.update_layout(mapbox_style=\"dark\", mapbox_accesstoken=MAPBOX_ACCESS_TOKEN)\n",
    "# fig.update_layout(margin={\"r\":0,\"t\":0,\"l\":0,\"b\":0})\n",
    "# fig.show()"
   ]
  },
  {
   "cell_type": "markdown",
   "metadata": {},
   "source": [
    "### Using `plotly.graph_objects` as alternative, uncomment those for substitutes"
   ]
  },
  {
   "cell_type": "code",
   "execution_count": 23,
   "metadata": {},
   "outputs": [],
   "source": [
    "# envir_topic_df = envir_topic_df.merge(sa2_gdf, left_on='area', right_on='SA2_NAME21', how='left')\n",
    "# envir_topic_df = gpd.GeoDataFrame(envir_topic_df, crs=\"EPSG:4283\", geometry=envir_topic_df.geometry)\n",
    "# envir_topic_df.crs"
   ]
  },
  {
   "cell_type": "code",
   "execution_count": 24,
   "metadata": {},
   "outputs": [],
   "source": [
    "# dff = topic_df.copy()\n",
    "# gdff = dff[dff['time'].dt.year == 2022]\n",
    "# gdff = gdff[gdff['topic'] == 'health']\n",
    "# gdff.set_index('area', inplace=True)\n",
    "# gdff.shape"
   ]
  },
  {
   "cell_type": "code",
   "execution_count": 25,
   "metadata": {},
   "outputs": [],
   "source": [
    "# fig = px.choropleth_mapbox(gdff, \n",
    "#                         geojson=gdff.geometry,\n",
    "#                         color=gdff.sentiment,\n",
    "#                         locations=gdff.index,\n",
    "#                         zoom=5,\n",
    "#                         center = {\"lat\": -37.8136, \"lon\": 144.9631},\n",
    "#                         mapbox_style=\"carto-positron\")\n",
    "# fig.show()"
   ]
  },
  {
   "cell_type": "code",
   "execution_count": 26,
   "metadata": {},
   "outputs": [],
   "source": [
    "# geometry_json = json.loads(gdff.geometry.to_json())\n",
    "# fig = go.Figure(\n",
    "#     data=go.Choroplethmapbox(geojson=geometry_json,\n",
    "#                             locations=gdff.index,\n",
    "#                             z=gdff.sentiment,\n",
    "#                             zmin=min(gdff.sentiment), zmax=max(gdff.sentiment),\n",
    "#                             colorscale=\"Oranges\",\n",
    "#                             marker_opacity=0.5, marker_line_width=0)\n",
    "# )\n",
    "# fig.update_layout(mapbox_style=\"dark\", \n",
    "#                 mapbox_accesstoken=MAPBOX_ACCESS_TOKEN,\n",
    "#                 mapbox_center = {\"lat\": -37.8136, \"lon\": 144.9631},\n",
    "#                 mapbox_zoom=3)\n",
    "# fig.update_layout(margin={\"r\":0,\"t\":0,\"l\":0,\"b\":0}, \n",
    "#                 paper_bgcolor='rgba(0,0,0,0)', \n",
    "#                 plot_bgcolor='rgba(0,0,0,0)',\n",
    "#                 font_color='#FFFFFF')\n",
    "# fig.show()"
   ]
  },
  {
   "cell_type": "markdown",
   "metadata": {},
   "source": [
    "## Dash app Logics Code"
   ]
  },
  {
   "cell_type": "code",
   "execution_count": 60,
   "metadata": {},
   "outputs": [],
   "source": [
    "df_prerendered_dict = defaultdict(dict)\n",
    "for topic_itr in topic_df.topic.unique():\n",
    "    for year_itr in range(min(topic_df.time).year, max(topic_df.time).year+1):\n",
    "        prerednered_dff = topic_df.copy()\n",
    "        prerednered_gdff = prerednered_dff[prerednered_dff['time'].dt.year == year_itr]\n",
    "        prerednered_gdff = prerednered_gdff[prerednered_gdff['topic'] == topic_itr.lower()]\n",
    "        prerednered_gdff.set_index('area', inplace=True)\n",
    "        prerednered_gdff.index = prerednered_gdff.index.str.capitalize()\n",
    "\n",
    "        df_prerendered_dict[topic_itr][str(year_itr)] = prerednered_gdff        "
   ]
  },
  {
   "cell_type": "code",
   "execution_count": 61,
   "metadata": {},
   "outputs": [],
   "source": [
    "drop_down_lst = list(map(lambda x: x.capitalize(), topic_df.topic.unique()))\n",
    "left_container = html.Div(\n",
    "                id=\"left-container\",\n",
    "                children=[\n",
    "                    dcc.Dropdown(drop_down_lst , drop_down_lst[0],\n",
    "                                id='topic-dropdown',\n",
    "                                style={'font-family':'sans-serif', \n",
    "                                    'margin': '0px 0px 5px 0px', \n",
    "                                    'padding': '5px 0px 5px 0px',\n",
    "                                    'background-color':'#282828'},\n",
    "                                clearable=False\n",
    "                    ),\n",
    "                    dcc.Graph(id='choropleth-mapbox', figure={}),\n",
    "                    html.Div(\n",
    "                        children=[\n",
    "                            html.P(\n",
    "                                id=\"slider-text\",\n",
    "                                children=\"Drag the slider to change the year:\",\n",
    "                                style={'color':'#FFECE8', 'font-family':'sans-serif'}\n",
    "                            ),\n",
    "                            dcc.Slider(\n",
    "                                    id='year-slider',\n",
    "                                    min=min(topic_df.time).year,\n",
    "                                    max=max(topic_df.time).year,\n",
    "                                    value=max(topic_df.time).year,\n",
    "                                    marks={str(year): {\n",
    "                                        'label':str(year), \n",
    "                                        'style': {\"color\": \"#FDA172\", 'font-family':'sans-serif'} \n",
    "                                    } for year in range(min(topic_df.time).year, max(topic_df.time).year+1, 1)},\n",
    "                                    step=None\n",
    "                            )\n",
    "                        ],\n",
    "                        style={'padding': '20px 20px 20px 20px', 'background-color':'#282828'}),\n",
    "                    html.Div(id='output-container', children=[], \n",
    "                            style={'text-align': 'center', \n",
    "                                'color':'#FDA172', \n",
    "                                'padding':'10px',\n",
    "                                'display': 'none'\n",
    "                            },),\n",
    "                    # dcc.Loading(\n",
    "                    #     id=\"loading-1\",\n",
    "                    #     type=\"default\",\n",
    "                    #     children=html.Div(id=\"choropleth-mapbox\")\n",
    "                    # ),\n",
    "                ], style={'display': 'inline-block', 'width':'49%', 'vertical-align':'top'})"
   ]
  },
  {
   "cell_type": "code",
   "execution_count": 62,
   "metadata": {},
   "outputs": [],
   "source": [
    "right_container = html.Div([\n",
    "    dcc.Graph(id='tweet-distb-by-city', figure=pie_fig),\n",
    "], style={'display': 'inline-block', \n",
    "        'width': '49%', \n",
    "        'margin': '0px 0px 0px 10px', \n",
    "        'padding': '10px 10px 20px 18.5px',\n",
    "        'verticle-align':'top', \n",
    "        'text-align': 'center', \n",
    "        'background-color':'#282828'})"
   ]
  },
  {
   "cell_type": "code",
   "execution_count": 63,
   "metadata": {},
   "outputs": [],
   "source": [
    "# JupyterDash._terminate_server_for_port('127.0.0.1', 8050)"
   ]
  },
  {
   "cell_type": "code",
   "execution_count": 66,
   "metadata": {},
   "outputs": [
    {
     "name": "stdout",
     "output_type": "stream",
     "text": [
      "Dash app running on http://127.0.0.1:8050/\n"
     ]
    }
   ],
   "source": [
    "# For Jupyter notebook uncomment the following line\n",
    "app = JupyterDash(__name__)\n",
    "\n",
    "# For flask app uncomment the following line\n",
    "# app = Dash(__name__)\n",
    "\n",
    "app.layout = html.Div([\n",
    "    html.H1('Sentiment Transportation on Dashboard', \n",
    "                            style={'text_align': 'center', \n",
    "                                'color':'#FDA172', \n",
    "                                'font-family':'sans-serif',\n",
    "                                'margin': '1em 0.3em 0.8em 0.3em'}),\n",
    "    html.Div(id=\"heading-description\", children=[\n",
    "        html.H2('This dashboard shows the sentiment of selected topic in Australia. (+ve means happy, -ve mean sad).', \n",
    "            style={'text_align': 'center', 'color':'#FFFFFF', 'font-family':'sans-serif', 'margin': '0.7em'}),\n",
    "        html.P('The data were product from MapReduce for Tweets that have location enabled and text which are able to be parsed into a Machine Learning Sentiment Scorer',\n",
    "            style={'text_align': 'center', 'color':'#FFFFFF', 'font-family':'sans-serif', 'margin': '0.8em 0.8em 1.2em 0.8em'})\n",
    "    ], style={'border-left': '5px solid darkorange'}),\n",
    "    dcc.Graph(id='indicators', \n",
    "        figure=indicator_fig, \n",
    "        style={\n",
    "            'width':'100%',\n",
    "            'background-color':'#282828',\n",
    "            'margin': '8px 0px 8px 0px',\n",
    "        }),\n",
    "    html.Div(children=[\n",
    "        left_container,\n",
    "        right_container\n",
    "    ], style={'width': '100%', 'margin-bottom': '10px'}),\n",
    "    dcc.Graph(id='tweet-sentiment-overtime', figure=lin_fig, style={'background-color':'#282828'}),\n",
    "])\n",
    "\n",
    "@app.callback(\n",
    "    [\n",
    "     Output(component_id='output-container', component_property='children'),\n",
    "     Output(component_id='choropleth-mapbox', component_property='figure')\n",
    "    ],\n",
    "    [Input(component_id='year-slider', component_property='value'),\n",
    "     Input(component_id='topic-dropdown', component_property='value')]\n",
    ")\n",
    "def update_graph(year, topic):\n",
    "    container = \"The year selected was: {}\".format(year)\n",
    "    \n",
    "    # dff = topic_df.copy()\n",
    "    # gdff = dff[dff['time'].dt.year == year]\n",
    "    # gdff = gdff[gdff['topic'] == topic.lower()]\n",
    "    # gdff.set_index('area', inplace=True)\n",
    "    # gdff.index = gdff.index.str.capitalize()\n",
    "    gdff = df_prerendered_dict[topic.lower()][str(year)]\n",
    "\n",
    "    ##### -- Uncomment below for plotly express, altough it renders slow\n",
    "    # fig = px.choropleth_mapbox(gdff, \n",
    "    #                     geojson=gdff.geometry,\n",
    "    #                     color=gdff.sentiment,\n",
    "    #                     locations=gdff.index,\n",
    "    #                     zoom=5,\n",
    "    #                     center = {\"lat\": -37.8136, \"lon\": 144.9631},\n",
    "    #                     mapbox_style=\"carto-positron\",\n",
    "    #                     color_continuous_scale=\"oranges\")\n",
    "    # fig.update_layout(mapbox_style=\"dark\", mapbox_accesstoken=MAPBOX_ACCESS_TOKEN)\n",
    "    # fig.update_layout(margin={\"r\":0,\"t\":0,\"l\":0,\"b\":0}, \n",
    "    #                 paper_bgcolor='rgba(0,0,0,0)', \n",
    "    #                 plot_bgcolor='rgba(0,0,0,0)',\n",
    "    #                 font_color='#FFFFFF')\n",
    "    #####-- End of plotly express\n",
    "\n",
    "    geometry_json = json.loads(gdff.geometry.to_json())\n",
    "    fig = go.Figure(\n",
    "        data=go.Choroplethmapbox(geojson=geometry_json,\n",
    "                                locations=gdff.index,\n",
    "                                z=gdff.sentiment,\n",
    "                                zmin=min(gdff.sentiment), zmax=max(gdff.sentiment),\n",
    "                                colorscale=\"Oranges\",\n",
    "                                marker_opacity=0.5, marker_line_width=0)\n",
    "    )\n",
    "    fig.update_layout(mapbox_style=\"dark\", \n",
    "                    mapbox_accesstoken=MAPBOX_ACCESS_TOKEN,\n",
    "                    mapbox_center = {\"lat\": -37.8136, \"lon\": 144.9631},\n",
    "                    mapbox_zoom=5)\n",
    "    fig.update_layout(margin={\"r\":0,\"t\":0,\"l\":0,\"b\":0}, \n",
    "                    paper_bgcolor='rgba(0,0,0,0)', \n",
    "                    plot_bgcolor='rgba(0,0,0,0)',\n",
    "                    font_color='#FFFFFF')\n",
    "    return container, fig\n",
    "    # return fig\n",
    "    \n",
    "app.run_server(mode=\"external\", debug=True, port=8050)"
   ]
  },
  {
   "cell_type": "code",
   "execution_count": null,
   "metadata": {},
   "outputs": [],
   "source": []
  },
  {
   "cell_type": "code",
   "execution_count": null,
   "metadata": {},
   "outputs": [],
   "source": []
  }
 ],
 "metadata": {
  "interpreter": {
   "hash": "670ff89e10ac900710db7c9d116120101565cb28f908a46f489d4b4b056ba925"
  },
  "kernelspec": {
   "display_name": "Python 3.9.7",
   "language": "python",
   "name": "python3"
  },
  "language_info": {
   "codemirror_mode": {
    "name": "ipython",
    "version": 3
   },
   "file_extension": ".py",
   "mimetype": "text/x-python",
   "name": "python",
   "nbconvert_exporter": "python",
   "pygments_lexer": "ipython3",
   "version": "3.9.7"
  },
  "orig_nbformat": 4
 },
 "nbformat": 4,
 "nbformat_minor": 2
}
