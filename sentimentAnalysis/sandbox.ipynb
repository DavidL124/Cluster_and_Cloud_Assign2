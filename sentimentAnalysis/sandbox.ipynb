{
 "cells": [
  {
   "cell_type": "code",
   "execution_count": 65,
   "metadata": {},
   "outputs": [],
   "source": [
    "from vaderSentiment.vaderSentiment import SentimentIntensityAnalyzer\n",
    "import json\n",
    "import re\n",
    "import contractions"
   ]
  },
  {
   "cell_type": "code",
   "execution_count": 66,
   "metadata": {},
   "outputs": [],
   "source": [
    "sample_json_file = open('./sample.json')\n",
    "sample_json = json.load(sample_json_file)\n",
    "sample_text = sample_json['text']\n",
    "\n"
   ]
  },
  {
   "cell_type": "code",
   "execution_count": 67,
   "metadata": {},
   "outputs": [
    {
     "data": {
      "text/plain": [
       "{'neg': 0.0, 'neu': 0.57, 'pos': 0.43, 'compound': 0.7783}"
      ]
     },
     "execution_count": 67,
     "metadata": {},
     "output_type": "execute_result"
    }
   ],
   "source": [
    "sample_text = re.sub(r'http\\S+', '', sample_text).strip()\n",
    "sample_text = contractions.fix(sample_text, slang=True)\n",
    "sample_text = re.sub(r'[^\\w\\s]', '', sample_text).strip()\n",
    "sample_text = re.sub(r' +', ' ', sample_text).strip()\n",
    "\n",
    "analyzer = SentimentIntensityAnalyzer()\n",
    "score = analyzer.polarity_scores(sample_text)\n",
    "score"
   ]
  },
  {
   "cell_type": "code",
   "execution_count": 68,
   "metadata": {},
   "outputs": [
    {
     "data": {
      "text/plain": [
       "{'neg': 0.504, 'neu': 0.496, 'pos': 0.0, 'compound': -0.7268}"
      ]
     },
     "execution_count": 68,
     "metadata": {},
     "output_type": "execute_result"
    }
   ],
   "source": [
    "neg_sample_text=\"i am sad and i am not happy\"\n",
    "score = analyzer.polarity_scores(neg_sample_text)\n",
    "score\n"
   ]
  },
  {
   "cell_type": "code",
   "execution_count": 69,
   "metadata": {},
   "outputs": [],
   "source": [
    "def attach_sentiment(tweet_object):\n",
    "    analyzer = SentimentIntensityAnalyzer()\n",
    "    # tweet_json = json.load(tweet_object) # load the json file only if it's string\n",
    "    sentence = tweet_object['text']\n",
    "    \n",
    "    #remove url from string \n",
    "    sentence = re.sub(r'http\\S+', '', sentence).strip()\n",
    "\n",
    "    # fix contractions (e.g. you're -> you are)\n",
    "    sentence = contractions.fix(sentence, slang=True)\n",
    "\n",
    "    #remove punctuation from string\n",
    "    sentence = re.sub(r'[^\\w\\s]', '', sentence).strip()\n",
    "\n",
    "    #remove extra whitespace\n",
    "    sentence = re.sub(r' +', ' ', sentence).strip()\n",
    "\n",
    "    #lowercase everything\n",
    "    sentence = sentence.lower()\n",
    "\n",
    "    sentiment_dict = analyzer.polarity_scores(sentence)\n",
    "    \n",
    "    tweet_object.update({\"sentiments\": sentiment_dict})\n",
    "    \n",
    "    return tweet_object"
   ]
  },
  {
   "cell_type": "markdown",
   "metadata": {},
   "source": [
    "Test the function with JSON"
   ]
  },
  {
   "cell_type": "code",
   "execution_count": 70,
   "metadata": {},
   "outputs": [
    {
     "data": {
      "text/plain": [
       "{'_id': '1cf59be52eafb8f2e597a4ebd700082a',\n",
       " '_rev': '1-7058cdd3f552609a59aee648fa973058',\n",
       " 'attachments': {'media_keys': ['3_1519987241929502720']},\n",
       " 'author_id': '570790242',\n",
       " 'context_annotations': [{'domain': {'id': '123',\n",
       "    'name': 'Ongoing News Story',\n",
       "    'description': \"Ongoing News Stories like 'Brexit'\"},\n",
       "   'entity': {'id': '1220701888179359745', 'name': 'COVID-19'}},\n",
       "  {'domain': {'id': '156',\n",
       "    'name': 'Cities',\n",
       "    'description': 'Cities around the world'},\n",
       "   'entity': {'id': '855110285568299008',\n",
       "    'name': 'Melbourne',\n",
       "    'description': 'Melbourne'}},\n",
       "  {'domain': {'id': '156',\n",
       "    'name': 'Cities',\n",
       "    'description': 'Cities around the world'},\n",
       "   'entity': {'id': '861520133566611456',\n",
       "    'name': 'Brisbane',\n",
       "    'description': 'Brisbane'}}],\n",
       " 'conversation_id': '1519987243804286977',\n",
       " 'created_at': '2022-04-29T10:29:33.000Z',\n",
       " 'entities': {'annotations': [{'start': 28,\n",
       "    'end': 36,\n",
       "    'probability': 0.7829,\n",
       "    'type': 'Place',\n",
       "    'normalized_text': 'Melbourne'},\n",
       "   {'start': 64,\n",
       "    'end': 77,\n",
       "    'probability': 0.5359,\n",
       "    'type': 'Organization',\n",
       "    'normalized_text': 'Brisbane Times'}],\n",
       "  'urls': [{'start': 79,\n",
       "    'end': 102,\n",
       "    'url': 'https://t.co/tHAgvCxxRB',\n",
       "    'expanded_url': 'http://dlvr.it/SPSYGF',\n",
       "    'display_url': 'dlvr.it/SPSYGF',\n",
       "    'images': [{'url': 'https://pbs.twimg.com/news_img/1519987249802145792/wWODePmt?format=jpg&name=orig',\n",
       "      'width': 1200,\n",
       "      'height': 628},\n",
       "     {'url': 'https://pbs.twimg.com/news_img/1519987249802145792/wWODePmt?format=jpg&name=150x150',\n",
       "      'width': 150,\n",
       "      'height': 150}],\n",
       "    'status': 200,\n",
       "    'title': \"'I'll forever be grateful': Melbourne's COVID-19 coma miracle\",\n",
       "    'description': 'Doctors from The Alfred Hospital are pioneering an extreme form of prolonged life support to save COVID-19 patients from death.',\n",
       "    'unwound_url': 'https://www.brisbanetimes.com.au/lifestyle/health-and-wellness/ill-forever-be-grateful-melbournes-covid-19-coma-miracle-20220429-p5ahc2.html?ref=rss&utm_medium=twitter&utm_source=dlvr.it'},\n",
       "   {'start': 103,\n",
       "    'end': 126,\n",
       "    'url': 'https://t.co/hHkQsUk9Ip',\n",
       "    'expanded_url': 'https://twitter.com/NewsOfMelbourne/status/1519987243804286977/photo/1',\n",
       "    'display_url': 'pic.twitter.com/hHkQsUk9Ip'}]},\n",
       " 'geo': {},\n",
       " 'id': '1519987243804286977',\n",
       " 'lang': 'en',\n",
       " 'text': \"'I'll forever be grateful': Melbourne's COVID-19 coma miracle - Brisbane Times https://t.co/tHAgvCxxRB https://t.co/hHkQsUk9Ip\",\n",
       " 'sentiments': {'neg': 0.0, 'neu': 0.57, 'pos': 0.43, 'compound': 0.7783}}"
      ]
     },
     "execution_count": 70,
     "metadata": {},
     "output_type": "execute_result"
    }
   ],
   "source": [
    "attach_sentiment(sample_json)"
   ]
  },
  {
   "cell_type": "code",
   "execution_count": null,
   "metadata": {},
   "outputs": [],
   "source": []
  },
  {
   "cell_type": "code",
   "execution_count": null,
   "metadata": {},
   "outputs": [],
   "source": []
  }
 ],
 "metadata": {
  "interpreter": {
   "hash": "34a6f0a4e33b1d033df5894b0332140a3218c7171318ca9fbe840f52930e8b88"
  },
  "kernelspec": {
   "display_name": "Python 3.9.10 64-bit ('base')",
   "language": "python",
   "name": "python3"
  },
  "language_info": {
   "codemirror_mode": {
    "name": "ipython",
    "version": 3
   },
   "file_extension": ".py",
   "mimetype": "text/x-python",
   "name": "python",
   "nbconvert_exporter": "python",
   "pygments_lexer": "ipython3",
   "version": "3.9.7"
  },
  "orig_nbformat": 4
 },
 "nbformat": 4,
 "nbformat_minor": 2
}
